{
 "cells": [
  {
   "cell_type": "code",
   "execution_count": 1,
   "metadata": {},
   "outputs": [],
   "source": [
    "import polyline\n",
    "import turtle\n",
    "import requests\n",
    "\n",
    "strava_access_token = \"<insert token>\"\n",
    "num_activities = 200"
   ]
  },
  {
   "cell_type": "code",
   "execution_count": null,
   "metadata": {},
   "outputs": [],
   "source": [
    "all_activities = requests.get(f\"https://www.strava.com/api/v3/athlete/activities?per_page={num_activities}\", headers={'Authorization': f'Bearer {token}'})\n",
    "all_poly = [a['map']['summary_polyline'] for a in all_activities.json() if a['map']['summary_polyline']]\n"
   ]
  },
  {
   "cell_type": "code",
   "execution_count": 4,
   "metadata": {},
   "outputs": [],
   "source": [
    "s = turtle.getscreen()\n",
    "t = turtle.Turtle()\n",
    "t.pensize(2)\n",
    "t.pencolor(\"white\")\n",
    "turtle.bgcolor(\"orange\")\n",
    "turtle.hideturtle()\n",
    "scale = 5e3\n",
    "\n",
    "\n",
    "for pline in all_poly:\n",
    "    latlon=polyline.decode(pline)\n",
    "    zero_latlon = [((lat-latlon[0][1]), (lon-latlon[0][0])) for lon, lat in latlon]\n",
    "    lat_scale = 400/abs(max(zero_latlon, key=lambda x:abs(x[0]))[0])\n",
    "    lon_scale = 400/abs(max(zero_latlon, key=lambda x:abs(x[1]))[1])\n",
    "    scale = min([lat_scale,lon_scale])\n",
    "    rel_latlon = [(lat*scale, lon*scale) for lat, lon in zero_latlon]\n",
    "\n",
    "    for lat,lon in rel_latlon:\n",
    "        t.goto(lat,lon)\n",
    "    t.penup()\n",
    "    t.goto(0,0)\n",
    "    t.pendown()\n"
   ]
  }
 ],
 "metadata": {
  "kernelspec": {
   "display_name": "Python 3",
   "language": "python",
   "name": "python3"
  },
  "language_info": {
   "codemirror_mode": {
    "name": "ipython",
    "version": 3
   },
   "file_extension": ".py",
   "mimetype": "text/x-python",
   "name": "python",
   "nbconvert_exporter": "python",
   "pygments_lexer": "ipython3",
   "version": "3.7.7"
  }
 },
 "nbformat": 4,
 "nbformat_minor": 4
}
